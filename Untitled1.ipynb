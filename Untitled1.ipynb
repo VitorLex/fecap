{
  "nbformat": 4,
  "nbformat_minor": 0,
  "metadata": {
    "colab": {
      "provenance": []
    },
    "kernelspec": {
      "name": "python3",
      "display_name": "Python 3"
    },
    "language_info": {
      "name": "python"
    }
  },
  "cells": [
    {
      "cell_type": "code",
      "execution_count": 34,
      "metadata": {
        "colab": {
          "base_uri": "https://localhost:8080/"
        },
        "id": "wrD2d8fk4hSi",
        "outputId": "15862f4d-6c9c-49ec-a59b-c3c2b174f765"
      },
      "outputs": [
        {
          "output_type": "stream",
          "name": "stdout",
          "text": [
            "Descrição: algumas nuvens\n",
            "Temperatura em graus Celsos: 31.59\n"
          ]
        }
      ],
      "source": [
        "import requests \n",
        "x = requests.get(\"https://api.openweathermap.org/data/2.5/weather?q=vitória&appid=70fbe268dc759dce3c4fd2041e1a6c2c&units=metric&lang=pt_br\")\n",
        "y = x.json()\n",
        "print(\"Descrição:\", y[\"weather\"][0][\"description\"])\n",
        "print(\"Temperatura em graus Celsos:\", y[\"main\"][\"temp\"])"
      ]
    }
  ]
}